{
 "cells": [
  {
   "cell_type": "code",
   "execution_count": null,
   "id": "ccb44fe6-840c-4721-a7b1-b04a4dc7ca0e",
   "metadata": {},
   "outputs": [],
   "source": [
    "from mean_var_std import calculate\n",
    "\n",
    "print(calculate([0, 1, 2, 3, 4, 5, 6, 7, 8]))"
   ]
  }
 ],
 "metadata": {
  "kernelspec": {
   "display_name": "Python [conda env:base] *",
   "language": "python",
   "name": "conda-base-py"
  },
  "language_info": {
   "codemirror_mode": {
    "name": "ipython",
    "version": 3
   },
   "file_extension": ".py",
   "mimetype": "text/x-python",
   "name": "python",
   "nbconvert_exporter": "python",
   "pygments_lexer": "ipython3",
   "version": "3.12.7"
  }
 },
 "nbformat": 4,
 "nbformat_minor": 5
}
