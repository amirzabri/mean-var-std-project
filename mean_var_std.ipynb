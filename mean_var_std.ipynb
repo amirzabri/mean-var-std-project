{
 "cells": [
  {
   "cell_type": "code",
   "execution_count": null,
   "id": "ef4ac8f8-018b-45c1-984d-21a0129e6c79",
   "metadata": {},
   "outputs": [],
   "source": [
    "import numpy as np\n",
    "\n",
    "def calculate(input_list):\n",
    "    # Check if the list contains exactly 9 elements\n",
    "    if len(input_list) != 9:\n",
    "        raise ValueError(\"List must contain nine numbers.\")\n",
    "    \n",
    "    # Convert the list into a 3x3 NumPy array\n",
    "    matrix = np.array(input_list).reshape(3, 3)\n",
    "    \n",
    "    # Create the dictionary with calculated statistics\n",
    "    calculations = {\n",
    "        'mean': [\n",
    "            matrix.mean(axis=0).tolist(),     # Mean of columns\n",
    "            matrix.mean(axis=1).tolist(),     # Mean of rows\n",
    "            matrix.mean().item()              # Mean of all elements\n",
    "        ],\n",
    "        'variance': [\n",
    "            matrix.var(axis=0).tolist(),      # Variance of columns\n",
    "            matrix.var(axis=1).tolist(),      # Variance of rows\n",
    "            matrix.var().item()               # Variance of all elements\n",
    "        ],\n",
    "        'standard deviation': [\n",
    "            matrix.std(axis=0).tolist(),      # Std dev of columns\n",
    "            matrix.std(axis=1).tolist(),      # Std dev of rows\n",
    "            matrix.std().item()               # Std dev of all elements\n",
    "        ],\n",
    "        'max': [\n",
    "            matrix.max(axis=0).tolist(),      # Max of columns\n",
    "            matrix.max(axis=1).tolist(),      # Max of rows\n",
    "            matrix.max().item()               # Max of all elements\n",
    "        ],\n",
    "        'min': [\n",
    "            matrix.min(axis=0).tolist(),      # Min of columns\n",
    "            matrix.min(axis=1).tolist(),      # Min of rows\n",
    "            matrix.min().item()               # Min of all elements\n",
    "        ],\n",
    "        'sum': [\n",
    "            matrix.sum(axis=0).tolist(),      # Sum of columns\n",
    "            matrix.sum(axis=1).tolist(),      # Sum of rows\n",
    "            matrix.sum().item()               # Sum of all elements\n",
    "        ]\n",
    "    }\n",
    "\n",
    "    return calculations\n"
   ]
  }
 ],
 "metadata": {
  "kernelspec": {
   "display_name": "Python [conda env:base] *",
   "language": "python",
   "name": "conda-base-py"
  },
  "language_info": {
   "codemirror_mode": {
    "name": "ipython",
    "version": 3
   },
   "file_extension": ".py",
   "mimetype": "text/x-python",
   "name": "python",
   "nbconvert_exporter": "python",
   "pygments_lexer": "ipython3",
   "version": "3.12.7"
  }
 },
 "nbformat": 4,
 "nbformat_minor": 5
}
