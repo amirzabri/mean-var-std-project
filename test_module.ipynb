{
 "cells": [
  {
   "cell_type": "code",
   "execution_count": null,
   "id": "c61a6e91-15a8-4774-8248-db1720d0521a",
   "metadata": {},
   "outputs": [],
   "source": [
    "import unittest\n",
    "from mean_var_std import calculate\n",
    "\n",
    "class UnitTests(unittest.TestCase):\n",
    "    def test_calculate(self):\n",
    "        actual = calculate([2, 6, 2, 8, 4, 0, 1, 5, 7])\n",
    "        expected = {\n",
    "            'mean': [[3.6666666666666665, 5.0, 3.0], [3.3333333333333335, 4.0, 4.333333333333333], 3.7777777777777777],\n",
    "            'variance': [[9.555555555555557, 0.6666666666666666, 13.555555555555555], [4.0, 10.666666666666666, 6.333333333333333], 8.209876543209875],\n",
    "            'standard deviation': [[3.091206165165235, 0.816496580927726, 3.6817870057290873], [2.0, 3.265986323710904, 2.516611478423583], 2.8635642126552705],\n",
    "            'max': [[8, 6, 7], [6, 8, 7], 8],\n",
    "            'min': [[1, 4, 0], [2, 0, 1], 0],\n",
    "            'sum': [[11, 15, 9], [10, 12, 13], 34]\n",
    "        }\n",
    "        self.assertAlmostEqual(actual['mean'][0][0], expected['mean'][0][0], places=5)\n",
    "        self.assertAlmostEqual(actual['variance'][2], expected['variance'][2], places=5)\n",
    "        self.assertAlmostEqual(actual['standard deviation'][2], expected['standard deviation'][2], places=5)\n",
    "        self.assertEqual(actual['max'][2], expected['max'][2])\n",
    "        self.assertEqual(actual['min'][2], expected['min'][2])\n",
    "        self.assertEqual(actual['sum'][2], expected['sum'][2])\n",
    "\n",
    "    def test_calculate_raises_value_error(self):\n",
    "        with self.assertRaises(ValueError):\n",
    "            calculate([1, 2, 3])\n",
    "\n",
    "if __name__ == \"__main__\":\n",
    "    unittest.main()\n"
   ]
  }
 ],
 "metadata": {
  "kernelspec": {
   "display_name": "Python [conda env:base] *",
   "language": "python",
   "name": "conda-base-py"
  },
  "language_info": {
   "codemirror_mode": {
    "name": "ipython",
    "version": 3
   },
   "file_extension": ".py",
   "mimetype": "text/x-python",
   "name": "python",
   "nbconvert_exporter": "python",
   "pygments_lexer": "ipython3",
   "version": "3.12.7"
  }
 },
 "nbformat": 4,
 "nbformat_minor": 5
}
